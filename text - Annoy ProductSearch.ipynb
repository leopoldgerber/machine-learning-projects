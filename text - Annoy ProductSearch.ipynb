{
 "cells": [
  {
   "cell_type": "markdown",
   "id": "1fe1cfa9",
   "metadata": {},
   "source": [
    "<center>\n",
    "<div style=\"color:white;\n",
    "           display:fill;\n",
    "           border-radius:5px;\n",
    "           background-color:#212121;\n",
    "           font-size:110%;\n",
    "           letter-spacing:0.5px\">\n",
    "<h2 style=\"padding: 10px;\n",
    "           color:#FFFFFF;\">Annoy\n",
    "</h2>\n",
    "</div>    \n",
    "</center>"
   ]
  },
  {
   "cell_type": "markdown",
   "id": "157e9770",
   "metadata": {},
   "source": [
    "<a id = 'toc'></a>\n",
    "# Table of Contents\n",
    "\n",
    "- ### [Data](#data)\n",
    "- ### [Exploratory Data Analysis](#eda)\n",
    "- ### [Annoy](#annoy)"
   ]
  },
  {
   "cell_type": "markdown",
   "id": "9b2026ce",
   "metadata": {},
   "source": [
    "<a id = 'data'></a>\n",
    "<center>\n",
    "<div style=\"color:white;\n",
    "           display:fill;\n",
    "           border-radius:5px;\n",
    "           background-color:#212121;\n",
    "           font-size:110%;\n",
    "           letter-spacing:0.5px\">\n",
    "<h2 style=\"padding: 10px;\n",
    "           color:#FFFFFF;\">Data\n",
    "</h2>\n",
    "</div>    \n",
    "</center>"
   ]
  },
  {
   "cell_type": "markdown",
   "id": "8372670f",
   "metadata": {},
   "source": [
    "## Dataset\n",
    "\n",
    "The dataset contains 35548 rows and represents products with title, name, description, category_id etc. that can be found on Avito. To make it more interesting, the original data has been translated into German using GoogleTranslator. To speed up the preprocessing the original dataset size will be reduces, translated and saved.\n",
    "\n",
    "## Features\n",
    "- **title** - title name of the product\n",
    "- **descrirption** - short description for each product\n",
    "- **product_id** - unique product id\n",
    "- **category_id** - the overall category to which the product belongs\n",
    "- **subcategory_id** - the subcategory to which the product belongs\n",
    "- **properties** - dict with properties\n",
    "- **image_links** - link to the images"
   ]
  },
  {
   "cell_type": "code",
   "execution_count": 1,
   "id": "2ed133a7",
   "metadata": {},
   "outputs": [
    {
     "name": "stderr",
     "output_type": "stream",
     "text": [
      "[nltk_data] Downloading package punkt to\n",
      "[nltk_data]     C:\\Users\\Leo\\AppData\\Roaming\\nltk_data...\n",
      "[nltk_data]   Package punkt is already up-to-date!\n"
     ]
    }
   ],
   "source": [
    "import os\n",
    "import re\n",
    "import string\n",
    "import codecs\n",
    "import nltk\n",
    "nltk.download('punkt')\n",
    "\n",
    "import seaborn as sns\n",
    "import matplotlib.pyplot as plt\n",
    "%matplotlib inline\n",
    "\n",
    "from string import punctuation\n",
    "from stop_words import get_stop_words\n",
    "from pymorphy2 import MorphAnalyzer\n",
    "\n",
    "from gensim.models import Word2Vec\n",
    "import annoy\n",
    "\n",
    "import pandas as pd\n",
    "import numpy as np\n",
    "from tqdm.notebook import tqdm\n",
    "from deep_translator import GoogleTranslator\n",
    "\n",
    "import warnings\n",
    "warnings.filterwarnings('ignore')"
   ]
  },
  {
   "cell_type": "markdown",
   "id": "fbd791e3",
   "metadata": {},
   "source": [
    "#### GoogleTranslator"
   ]
  },
  {
   "cell_type": "code",
   "execution_count": 2,
   "id": "66907cf6",
   "metadata": {},
   "outputs": [],
   "source": [
    "# df = pd.read_csv('ProductsDataset.csv')\n",
    "# df = df.iloc[:500]\n",
    "\n",
    "# translated_lines = []\n",
    "\n",
    "# for line in tqdm(df['title']):\n",
    "#     translated_lines.append(GoogleTranslator(source = 'ru', target = 'de').translate(text = line))\n",
    "    \n",
    "# df['title_de'] = translated_lines\n",
    "\n",
    "# df.to_csv('ProductsDataset_de.csv')"
   ]
  },
  {
   "cell_type": "code",
   "execution_count": 3,
   "id": "89cfe113",
   "metadata": {},
   "outputs": [],
   "source": [
    "df = pd.read_csv('assets/text/ProductsDataset_de.csv')"
   ]
  },
  {
   "cell_type": "markdown",
   "id": "9688c446",
   "metadata": {},
   "source": [
    "[UP](#toc)"
   ]
  },
  {
   "cell_type": "markdown",
   "id": "a6520304",
   "metadata": {},
   "source": [
    "<a id = 'eda'></a>\n",
    "<center>\n",
    "<div style=\"color:white;\n",
    "           display:fill;\n",
    "           border-radius:5px;\n",
    "           background-color:#212121;\n",
    "           font-size:110%;\n",
    "           letter-spacing:0.5px\">\n",
    "<h2 style=\"padding: 10px;\n",
    "           color:#FFFFFF;\">Exploratory Data Analysis\n",
    "</h2>\n",
    "</div>    \n",
    "</center>"
   ]
  },
  {
   "cell_type": "markdown",
   "id": "3b4e13cf",
   "metadata": {},
   "source": [
    "- [Preprocess Dataset](#eda_preprocess)"
   ]
  },
  {
   "cell_type": "markdown",
   "id": "76d8da74",
   "metadata": {},
   "source": [
    "<a id = 'eda_preprocess'></a>\n",
    "<left>\n",
    "<div style=\"color:white;\n",
    "           display:fill;\n",
    "           border: 0px;\n",
    "           border-bottom: 2px solid #AAA;\n",
    "           font-size:80%;\n",
    "           letter-spacing:0.5px\">\n",
    "<h2 style=\"padding: 10px;\n",
    "           color:#212121;\">Preprocess Dataset\n",
    "</h2>\n",
    "</div>    \n",
    "</left>"
   ]
  },
  {
   "cell_type": "code",
   "execution_count": 4,
   "id": "979926a5",
   "metadata": {},
   "outputs": [],
   "source": [
    "# Give extra symbol to split later\n",
    "df['new_title'] = df['title_de'] + ' | ' + df['product_id']\n",
    "\n",
    "# Symbol pattern\n",
    "cleaner_symbol = re.compile('[!@#$]')\n",
    "\n",
    "# HTML pattern\n",
    "CLEANR = re.compile('<.*?>') \n",
    "\n",
    "# Emoji pattern\n",
    "emoji_pattern = re.compile(\"[\"\n",
    "        u\"\\U0001F600-\\U0001F64F\"  # emoticons\n",
    "        u\"\\U0001F300-\\U0001F5FF\"  # symbols & pictographs\n",
    "        u\"\\U0001F680-\\U0001F6FF\"  # transport & map symbols\n",
    "        u\"\\U0001F1E0-\\U0001F1FF\"  # flags (iOS)\n",
    "        u\"\\U00002500-\\U00002BEF\"  # chinese char\n",
    "        u\"\\U00002702-\\U000027B0\"\n",
    "        u\"\\U00002702-\\U000027B0\"\n",
    "        u\"\\U000024C2-\\U0001F251\"\n",
    "        u\"\\U0001f926-\\U0001f937\"\n",
    "        u\"\\U00010000-\\U0010ffff\"\n",
    "        u\"\\u2640-\\u2642\" \n",
    "        u\"\\u2600-\\u2B55\"\n",
    "        u\"\\u200d\"\n",
    "        u\"\\u23cf\"\n",
    "        u\"\\u23e9\"\n",
    "        u\"\\u231a\"\n",
    "        u\"\\ufe0f\"  # dingbats\n",
    "        u\"\\u3030\"\n",
    "                           \"]+\", flags=re.UNICODE)\n",
    "\n",
    "morpher = MorphAnalyzer()\n",
    "sw = set(get_stop_words('de'))\n",
    "exclude = set(punctuation)"
   ]
  },
  {
   "cell_type": "code",
   "execution_count": 5,
   "id": "de44bb91",
   "metadata": {},
   "outputs": [
    {
     "data": {
      "application/vnd.jupyter.widget-view+json": {
       "model_id": "7a00976948924f77985c6f2d13e9db52",
       "version_major": 2,
       "version_minor": 0
      },
      "text/plain": [
       "  0%|          | 0/500 [00:00<?, ?it/s]"
      ]
     },
     "metadata": {},
     "output_type": "display_data"
    }
   ],
   "source": [
    "breaker_product = 50 # Data size\n",
    "def preprocess_txt(line):\n",
    "    line = re.sub(CLEANR, ' ', line)\n",
    "    line = re.sub(cleaner_symbol, ' ', line)\n",
    "    spls = \"\".join(emoji_pattern.sub(r' ',i) for i in line.replace('<', ' ') \\\n",
    "                   .replace('>', ' ').replace('/', ' ').strip() \\\n",
    "                   if i not in exclude and not i.isdigit()).split()\n",
    "    spls = [morpher.parse(i.lower())[0].normal_form for i in spls if len(i) > 1]\n",
    "    spls = [i for i in spls if i not in sw and i != \"\"]\n",
    "    return spls\n",
    "\n",
    "sentences_product = []\n",
    "c = 0\n",
    "\n",
    "for line in tqdm(df['title_de']):\n",
    "    spls = preprocess_txt(line)\n",
    "    sentences_product.append(spls)\n",
    "#     c += 1\n",
    "#     if c > breaker_product: # Break for loop\n",
    "#         break"
   ]
  },
  {
   "cell_type": "markdown",
   "id": "88b3197b",
   "metadata": {},
   "source": [
    "[UP](#toc)"
   ]
  },
  {
   "cell_type": "markdown",
   "id": "e9bddc7f",
   "metadata": {},
   "source": [
    "<a id = 'annoy'></a>\n",
    "<center>\n",
    "<div style=\"color:white;\n",
    "           display:fill;\n",
    "           border-radius:5px;\n",
    "           background-color:#212121;\n",
    "           font-size:110%;\n",
    "           letter-spacing:0.5px\">\n",
    "<h2 style=\"padding: 10px;\n",
    "           color:#FFFFFF;\">Annoy\n",
    "</h2>\n",
    "</div>    \n",
    "</center>"
   ]
  },
  {
   "cell_type": "markdown",
   "id": "82cc279e",
   "metadata": {},
   "source": [
    "- [Word2Vec and Annoy](#annoy_w2v)\n",
    "- [Similarity Model by subcategory_id](#annoy_similarity)\n",
    "- [Result](#annoy_result)"
   ]
  },
  {
   "cell_type": "markdown",
   "id": "2a9bb16f",
   "metadata": {},
   "source": [
    "<a id = 'annoy_w2v'></a>\n",
    "<left>\n",
    "<div style=\"color:white;\n",
    "           display:fill;\n",
    "           border: 0px;\n",
    "           border-bottom: 2px solid #AAA;\n",
    "           font-size:80%;\n",
    "           letter-spacing:0.5px\">\n",
    "<h2 style=\"padding: 10px;\n",
    "           color:#212121;\">Word2Vec and Annoy\n",
    "</h2>\n",
    "</div>    \n",
    "</left>"
   ]
  },
  {
   "cell_type": "code",
   "execution_count": 6,
   "id": "98c13d56",
   "metadata": {},
   "outputs": [
    {
     "data": {
      "text/plain": [
       "(701, 9620)"
      ]
     },
     "execution_count": 6,
     "metadata": {},
     "output_type": "execute_result"
    }
   ],
   "source": [
    "model_product = Word2Vec(vector_size = 100\n",
    "                         , window = 5 , sg = 1 , hs = 0\n",
    "                         , negative = 10 , alpha=0.03\n",
    "                         , min_alpha=0.0007 , seed = 11)\n",
    "\n",
    "model_product.build_vocab(sentences_product, progress_per = 10)\n",
    "\n",
    "model_product.train(sentences_product, total_examples = model_product.corpus_count\n",
    "                    , epochs = 10, report_delay = 1)"
   ]
  },
  {
   "cell_type": "code",
   "execution_count": 7,
   "id": "9c25b72a",
   "metadata": {},
   "outputs": [],
   "source": [
    "# Save model\n",
    "model_product.save(\"model_product.model\")"
   ]
  },
  {
   "cell_type": "code",
   "execution_count": 8,
   "id": "33abae89",
   "metadata": {},
   "outputs": [
    {
     "data": {
      "application/vnd.jupyter.widget-view+json": {
       "model_id": "869e58bdf02742409cd38f73d377bc4f",
       "version_major": 2,
       "version_minor": 0
      },
      "text/plain": [
       "  0%|          | 0/500 [00:00<?, ?it/s]"
      ]
     },
     "metadata": {},
     "output_type": "display_data"
    },
    {
     "data": {
      "text/plain": [
       "True"
      ]
     },
     "execution_count": 8,
     "metadata": {},
     "output_type": "execute_result"
    }
   ],
   "source": [
    "index_product = annoy.AnnoyIndex(100 ,'angular')\n",
    "\n",
    "index_map_product = {}\n",
    "counter = 0\n",
    "\n",
    "# index_map + question <- both\n",
    "for line in tqdm(df['new_title']):\n",
    "    n_w2v = 0\n",
    "    spls = line.split(\" | \")\n",
    "    index_map_product[counter] = spls[1].strip()\n",
    "    question = preprocess_txt(spls[0])\n",
    "    vector = np.zeros(100)\n",
    "    for word in question:\n",
    "        if word in model_product.wv:\n",
    "            vector += model_product.wv[word]\n",
    "            n_w2v += 1\n",
    "    if n_w2v > 0:\n",
    "        vector = vector / n_w2v\n",
    "    index_product.add_item(counter, vector)\n",
    "\n",
    "    counter += 1\n",
    "#     if counter > breaker_product:\n",
    "#         break\n",
    "\n",
    "index_product.build(100)\n",
    "index_product.save('speaker_product.ann')"
   ]
  },
  {
   "cell_type": "markdown",
   "id": "077b00a0",
   "metadata": {},
   "source": [
    "<a id = 'annoy_similarity'></a>\n",
    "<left>\n",
    "<div style=\"color:white;\n",
    "           display:fill;\n",
    "           border: 0px;\n",
    "           border-bottom: 2px solid #AAA;\n",
    "           font-size:80%;\n",
    "           letter-spacing:0.5px\">\n",
    "<h2 style=\"padding: 10px;\n",
    "           color:#212121;\">Similarity Model by subcategory_id\n",
    "</h2>\n",
    "</div>    \n",
    "</left>"
   ]
  },
  {
   "cell_type": "code",
   "execution_count": 9,
   "id": "d7ed7a0d",
   "metadata": {},
   "outputs": [
    {
     "data": {
      "application/vnd.jupyter.widget-view+json": {
       "model_id": "4e7910157d754be4b0fe997ab510d1a4",
       "version_major": 2,
       "version_minor": 0
      },
      "text/plain": [
       "  0%|          | 0/5 [00:00<?, ?it/s]"
      ]
     },
     "metadata": {},
     "output_type": "display_data"
    }
   ],
   "source": [
    "subcategory = df['category_id'].unique().tolist()\n",
    "\n",
    "purchases_train = []\n",
    "for i in tqdm(subcategory):\n",
    "    temp = df[df['category_id'] == i]['subcategory_id'].tolist()\n",
    "    purchases_train.append(temp)"
   ]
  },
  {
   "cell_type": "markdown",
   "id": "527e5506",
   "metadata": {},
   "source": [
    "#### Word2Vec model"
   ]
  },
  {
   "cell_type": "code",
   "execution_count": 10,
   "id": "5fcab072",
   "metadata": {},
   "outputs": [
    {
     "data": {
      "text/plain": [
       "(772, 5000)"
      ]
     },
     "execution_count": 10,
     "metadata": {},
     "output_type": "execute_result"
    }
   ],
   "source": [
    "model_product_class = Word2Vec(window = 100, sg = 1, hs = 0\n",
    "                              , negative = 10, alpha = .03\n",
    "                              , min_alpha = .0007, seed = 11)\n",
    "\n",
    "model_product_class.build_vocab(purchases_train, progress_per = 200)\n",
    "model_product_class.train(purchases_train, total_examples = model_product_class.corpus_count\n",
    "                          , epochs = 10, report_delay = 1)"
   ]
  },
  {
   "cell_type": "code",
   "execution_count": 11,
   "id": "bcbdf9c4",
   "metadata": {},
   "outputs": [],
   "source": [
    "model_product_class.save('model_product_class.model')"
   ]
  },
  {
   "cell_type": "code",
   "execution_count": 12,
   "id": "a74201d3",
   "metadata": {},
   "outputs": [],
   "source": [
    "model_product_class.init_sims(replace=True)"
   ]
  },
  {
   "cell_type": "code",
   "execution_count": 13,
   "id": "ca5c8994",
   "metadata": {},
   "outputs": [],
   "source": [
    "products = df[['subcategory_id', 'title_de']]\n",
    "\n",
    "products.drop_duplicates(inplace = True, subset = 'subcategory_id', keep = 'last')\n",
    "products_dict = products.groupby('subcategory_id')['title_de'].apply(list).to_dict()"
   ]
  },
  {
   "cell_type": "markdown",
   "id": "b24e6e3c",
   "metadata": {},
   "source": [
    "#### Answer function"
   ]
  },
  {
   "cell_type": "code",
   "execution_count": 14,
   "id": "db76259e",
   "metadata": {},
   "outputs": [],
   "source": [
    "class check:\n",
    "    def __init__(self, question, similar = False):\n",
    "        self.question = question\n",
    "        self.similar = similar\n",
    "    \n",
    "    def get_answer_chat(self, question):\n",
    "        preprocessed_question = preprocess_txt(self.question)\n",
    "        n_w2v = 0\n",
    "        vector = np.zeros(vector_size_chat)\n",
    "        for word in preprocessed_question:\n",
    "            if word in model_chat.wv:\n",
    "                vector += model_chat.wv[word]\n",
    "                n_w2v += 1\n",
    "        if n_w2v > 0:\n",
    "            vector = vector / n_w2v\n",
    "        answer_index = index_chat.get_nns_by_vector(vector, 1)\n",
    "        return index_map_chat[answer_index[0]]\n",
    "\n",
    "    def get_answer_product(self, question):\n",
    "        preprocessed_question = preprocess_txt(self.question)\n",
    "        n_w2v = 0\n",
    "        vector = np.zeros(vector_size_product)\n",
    "        for word in preprocessed_question:\n",
    "            if word in model_product.wv:\n",
    "                vector += model_product.wv[word]\n",
    "                n_w2v += 1\n",
    "        if n_w2v > 0:\n",
    "            vector = vector / n_w2v\n",
    "        answer_index = index_product.get_nns_by_vector(vector, 1)\n",
    "        return index_map_product[answer_index[0]]\n",
    "    \n",
    "    def similar_products(self, subcategory):\n",
    "        ms = model_product_class.wv.similar_by_vector(subcategory, topn= 6)[1:]\n",
    "        new_ms = []\n",
    "        for j in ms:\n",
    "            pair = (products_dict[j[0]][0], j[1])\n",
    "            new_ms.append(pair)\n",
    "        return new_ms\n",
    "\n",
    "    def get_answer(self):\n",
    "        interrogative = ['who', 'was', 'welche', 'welche', 'welche', 'welche', 'welche',\n",
    "         'welche', 'welche', 'welche', 'wessen', 'wessen', 'wessen', 'wessen', 'welche',\n",
    "         'welche', 'was', 'dem', 'welcher', 'an wen', 'was', 'dem', 'was', 'welche', 'welche',\n",
    "         'welche', 'wie', 'wessen', 'wie viele', 'wessen', 'wie viele', 'wessen', 'wie viele',\n",
    "         'wessen', 'wie viele', 'wessen', 'wie viele', 'wessen', 'wann', 'wofür', 'warum']\n",
    "        question_list = set()\n",
    "        word_list = []\n",
    "        word_list.append(self.question.lower())\n",
    "        for x in word_list:\n",
    "            if x in interrogative or '?' in x:\n",
    "                print('CHAT')\n",
    "                answer = self.get_answer_chat(\"\".join(i for i in self.question))\n",
    "                print(answer)\n",
    "            else:\n",
    "                for line in word_list:\n",
    "                    spls = preprocess_txt(line)\n",
    "                    for i in spls:\n",
    "                        for j in sentences_product:\n",
    "                            for k in j:\n",
    "                                if i == k:\n",
    "                                    question_list.add(i)\n",
    "                if len(question_list) >= len(spls):\n",
    "                    print('PRODUCT')\n",
    "                    answer = df.loc[df['product_id'] == self.get_answer_product(\"\".join(i for i in self.question))]\n",
    "                    subcategory = df['subcategory_id'].loc[df[df['product_id'] == self.get_answer_product(\"\".join(i for i in self.question))].index[0]]\n",
    "                    if self.similar:\n",
    "                        display(answer)\n",
    "                        print('Similar products:')\n",
    "                        display(self.similar_products(subcategory))\n",
    "                    else:\n",
    "                        display(answer)\n",
    "                else:\n",
    "                    print('CHAT')\n",
    "                    answer = self.get_answer_chat(\"\".join(i for i in self.question))\n",
    "                    print(answer)"
   ]
  },
  {
   "cell_type": "markdown",
   "id": "aea96414",
   "metadata": {},
   "source": [
    "<a id = 'annoy_result'></a>\n",
    "<left>\n",
    "<div style=\"color:white;\n",
    "           display:fill;\n",
    "           border: 0px;\n",
    "           border-bottom: 2px solid #AAA;\n",
    "           font-size:80%;\n",
    "           letter-spacing:0.5px\">\n",
    "<h2 style=\"padding: 10px;\n",
    "           color:#212121;\">Result\n",
    "</h2>\n",
    "</div>    \n",
    "</left>"
   ]
  },
  {
   "cell_type": "code",
   "execution_count": 15,
   "id": "52257226",
   "metadata": {
    "scrolled": true
   },
   "outputs": [
    {
     "name": "stdout",
     "output_type": "stream",
     "text": [
      "PRODUCT\n"
     ]
    },
    {
     "data": {
      "text/html": [
       "<div>\n",
       "<style scoped>\n",
       "    .dataframe tbody tr th:only-of-type {\n",
       "        vertical-align: middle;\n",
       "    }\n",
       "\n",
       "    .dataframe tbody tr th {\n",
       "        vertical-align: top;\n",
       "    }\n",
       "\n",
       "    .dataframe thead th {\n",
       "        text-align: right;\n",
       "    }\n",
       "</style>\n",
       "<table border=\"1\" class=\"dataframe\">\n",
       "  <thead>\n",
       "    <tr style=\"text-align: right;\">\n",
       "      <th></th>\n",
       "      <th>Unnamed: 0</th>\n",
       "      <th>title</th>\n",
       "      <th>descrirption</th>\n",
       "      <th>product_id</th>\n",
       "      <th>category_id</th>\n",
       "      <th>subcategory_id</th>\n",
       "      <th>properties</th>\n",
       "      <th>image_links</th>\n",
       "      <th>title_de</th>\n",
       "      <th>new_title</th>\n",
       "    </tr>\n",
       "  </thead>\n",
       "  <tbody>\n",
       "    <tr>\n",
       "      <th>4</th>\n",
       "      <td>4</td>\n",
       "      <td>Блузка</td>\n",
       "      <td>Темно-синяя, 42 размер,состояние отличное,как ...</td>\n",
       "      <td>5ad4d2626c86cb168d212022</td>\n",
       "      <td>9.0</td>\n",
       "      <td>907</td>\n",
       "      <td>{'zhenskaya_odezhda_tzvet': 'Синий', 'zhenskay...</td>\n",
       "      <td>http://cache3.youla.io/files/images/360_360/5a...</td>\n",
       "      <td>Bluse</td>\n",
       "      <td>Bluse | 5ad4d2626c86cb168d212022</td>\n",
       "    </tr>\n",
       "  </tbody>\n",
       "</table>\n",
       "</div>"
      ],
      "text/plain": [
       "   Unnamed: 0   title                                       descrirption  \\\n",
       "4           4  Блузка  Темно-синяя, 42 размер,состояние отличное,как ...   \n",
       "\n",
       "                 product_id  category_id  subcategory_id  \\\n",
       "4  5ad4d2626c86cb168d212022          9.0             907   \n",
       "\n",
       "                                          properties  \\\n",
       "4  {'zhenskaya_odezhda_tzvet': 'Синий', 'zhenskay...   \n",
       "\n",
       "                                         image_links title_de  \\\n",
       "4  http://cache3.youla.io/files/images/360_360/5a...    Bluse   \n",
       "\n",
       "                          new_title  \n",
       "4  Bluse | 5ad4d2626c86cb168d212022  "
      ]
     },
     "metadata": {},
     "output_type": "display_data"
    },
    {
     "name": "stdout",
     "output_type": "stream",
     "text": [
      "Similar products:\n"
     ]
    },
    {
     "data": {
      "text/plain": [
       "[('Jeans NEU', 0.9993540048599243),\n",
       " ('Nachthemd', 0.999295175075531),\n",
       " ('Gebrauchtes Kleid', 0.9991384744644165),\n",
       " ('Tom Tailor-Stiefel für Damen. 37 Rubel', 0.9991260766983032),\n",
       " ('Neue Tasche', 0.998947262763977)]"
      ]
     },
     "metadata": {},
     "output_type": "display_data"
    }
   ],
   "source": [
    "vector_size_product = 100\n",
    "check('Bluse', True).get_answer()"
   ]
  },
  {
   "cell_type": "markdown",
   "id": "cb311985",
   "metadata": {},
   "source": [
    "[UP](#toc)"
   ]
  }
 ],
 "metadata": {
  "kernelspec": {
   "display_name": "Python 3 (ipykernel)",
   "language": "python",
   "name": "python3"
  },
  "language_info": {
   "codemirror_mode": {
    "name": "ipython",
    "version": 3
   },
   "file_extension": ".py",
   "mimetype": "text/x-python",
   "name": "python",
   "nbconvert_exporter": "python",
   "pygments_lexer": "ipython3",
   "version": "3.10.9"
  }
 },
 "nbformat": 4,
 "nbformat_minor": 5
}
