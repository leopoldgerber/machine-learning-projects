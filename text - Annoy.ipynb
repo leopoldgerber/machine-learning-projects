{
 "cells": [
  {
   "cell_type": "markdown",
   "id": "1fe1cfa9",
   "metadata": {},
   "source": [
    "<center>\n",
    "<div style=\"color:white;\n",
    "           display:fill;\n",
    "           border-radius:5px;\n",
    "           background-color:#212121;\n",
    "           font-size:110%;\n",
    "           letter-spacing:0.5px\">\n",
    "<h2 style=\"padding: 10px;\n",
    "           color:#FFFFFF;\">Annoy\n",
    "</h2>\n",
    "</div>    \n",
    "</center>"
   ]
  },
  {
   "cell_type": "markdown",
   "id": "157e9770",
   "metadata": {},
   "source": [
    "<a id = 'toc'></a>\n",
    "# Table of Contents\n",
    "\n",
    "- ### [Data](#data)\n",
    "- ### [Exploratory Data Analysis](#eda)\n",
    "- ### [Annoy](#annoy)"
   ]
  },
  {
   "cell_type": "markdown",
   "id": "9b2026ce",
   "metadata": {},
   "source": [
    "<a id = 'data'></a>\n",
    "<center>\n",
    "<div style=\"color:white;\n",
    "           display:fill;\n",
    "           border-radius:5px;\n",
    "           background-color:#212121;\n",
    "           font-size:110%;\n",
    "           letter-spacing:0.5px\">\n",
    "<h2 style=\"padding: 10px;\n",
    "           color:#FFFFFF;\">Data\n",
    "</h2>\n",
    "</div>    \n",
    "</center>"
   ]
  },
  {
   "cell_type": "markdown",
   "id": "8372670f",
   "metadata": {},
   "source": [
    "## Dataset\n",
    "\n",
    "This dataset contains 7 551 302 rows of questions asked on the mail.ru forum and multiple answers per question from other users. To make it more interesting, the original data has been translated into German using GoogleTranslator. To speed up the preprocessing the original dataset size will be reduces and translated.\n",
    "\n",
    "## Features\n",
    "- **question** - question asked by a user\n",
    "- **answer** - answer from another user"
   ]
  },
  {
   "cell_type": "code",
   "execution_count": 1,
   "id": "2ed133a7",
   "metadata": {},
   "outputs": [
    {
     "name": "stderr",
     "output_type": "stream",
     "text": [
      "[nltk_data] Downloading package punkt to\n",
      "[nltk_data]     C:\\Users\\Leo\\AppData\\Roaming\\nltk_data...\n",
      "[nltk_data]   Package punkt is already up-to-date!\n"
     ]
    }
   ],
   "source": [
    "import os\n",
    "import string\n",
    "import codecs\n",
    "import nltk\n",
    "nltk.download('punkt')\n",
    "\n",
    "import seaborn as sns\n",
    "import matplotlib.pyplot as plt\n",
    "%matplotlib inline\n",
    "\n",
    "from string import punctuation\n",
    "from stop_words import get_stop_words\n",
    "from pymorphy2 import MorphAnalyzer\n",
    "\n",
    "from gensim.models import Word2Vec\n",
    "import annoy\n",
    "\n",
    "import pandas as pd\n",
    "import numpy as np\n",
    "from tqdm.notebook import tqdm\n",
    "\n",
    "import warnings\n",
    "warnings.filterwarnings('ignore')"
   ]
  },
  {
   "cell_type": "code",
   "execution_count": 2,
   "id": "1464438a",
   "metadata": {
    "scrolled": false
   },
   "outputs": [],
   "source": [
    "# start = 0 \n",
    "# end = 100\n",
    "\n",
    "# question = False\n",
    "\n",
    "# with codecs.open('prepared_answers.txt', 'w', 'utf-8') as created_:\n",
    "#     with codecs.open('14.8.txt', 'r', 'utf-8') as big:\n",
    "#         for line in tqdm(big):\n",
    "#             if question == True:\n",
    "#                 question = GoogleTranslator(source = 'ru', target = 'de').translate(text = line)\n",
    "#                 continue\n",
    "#             if question is not False and not line.startswith('---'):\n",
    "#                 line = GoogleTranslator(source = 'ru', target = 'de').translate(text = line)\n",
    "#                 splt = question.replace(\"\\t\", \" \").strip() + \"\\t\" + line.replace(\"\\t\", \" \") + \"----\"\n",
    "#                 created_.write(splt)\n",
    "#             if line.startswith('---'):\n",
    "#                 question = True\n",
    "#                 continue\n",
    "            \n",
    "#             if start >= end:\n",
    "#                 break\n",
    "#             else:\n",
    "#                 start += 1"
   ]
  },
  {
   "cell_type": "code",
   "execution_count": 3,
   "id": "b79a706c",
   "metadata": {},
   "outputs": [
    {
     "data": {
      "application/vnd.jupyter.widget-view+json": {
       "model_id": "6e143ce70fad4cc1bd701004ea281e1a",
       "version_major": 2,
       "version_minor": 0
      },
      "text/plain": [
       "0it [00:00, ?it/s]"
      ]
     },
     "metadata": {},
     "output_type": "display_data"
    }
   ],
   "source": [
    "answers = []\n",
    "\n",
    "with codecs.open('assets/text/prepared_answers.txt', 'r', 'utf-8') as big:\n",
    "    for line in tqdm(big):\n",
    "        answers.append(line)"
   ]
  },
  {
   "cell_type": "code",
   "execution_count": 4,
   "id": "fbc06cdd",
   "metadata": {},
   "outputs": [],
   "source": [
    "answers_splitted = [i.split('\\t') for i in answers[0].split('----')]\n",
    "\n",
    "question = []\n",
    "answer = []\n",
    "\n",
    "for line in answers_splitted:\n",
    "    if line[0] != '' and line[1] != '':\n",
    "        question.append(line[0])\n",
    "        answer.append(line[1])\n",
    "        \n",
    "df = pd.DataFrame(np.c_[np.array(question).reshape(-1, 1), np.array(answer).reshape(-1, 1)]\n",
    "                 , columns = ['question', 'answer'])"
   ]
  },
  {
   "cell_type": "markdown",
   "id": "9688c446",
   "metadata": {},
   "source": [
    "[UP](#toc)"
   ]
  },
  {
   "cell_type": "markdown",
   "id": "a6520304",
   "metadata": {},
   "source": [
    "<a id = 'eda'></a>\n",
    "<center>\n",
    "<div style=\"color:white;\n",
    "           display:fill;\n",
    "           border-radius:5px;\n",
    "           background-color:#212121;\n",
    "           font-size:110%;\n",
    "           letter-spacing:0.5px\">\n",
    "<h2 style=\"padding: 10px;\n",
    "           color:#FFFFFF;\">Exploratory Data Analysis\n",
    "</h2>\n",
    "</div>    \n",
    "</center>"
   ]
  },
  {
   "cell_type": "markdown",
   "id": "3b4e13cf",
   "metadata": {},
   "source": [
    "- [Describe length](#eda_describe)\n",
    "- [Distribution](#eda_distribution)\n",
    "- [Preprocessing sentences](#eda_preprocessing)"
   ]
  },
  {
   "cell_type": "markdown",
   "id": "76d8da74",
   "metadata": {},
   "source": [
    "<a id = 'eda_describe'></a>\n",
    "<left>\n",
    "<div style=\"color:white;\n",
    "           display:fill;\n",
    "           border: 0px;\n",
    "           border-bottom: 2px solid #AAA;\n",
    "           font-size:80%;\n",
    "           letter-spacing:0.5px\">\n",
    "<h2 style=\"padding: 10px;\n",
    "           color:#212121;\">Describe length\n",
    "</h2>\n",
    "</div>    \n",
    "</left>"
   ]
  },
  {
   "cell_type": "code",
   "execution_count": 5,
   "id": "cc95c828",
   "metadata": {},
   "outputs": [],
   "source": [
    "df['answer_len'] = df['answer'].apply(len)\n",
    "df['answer_len_words'] = df['answer'].apply(lambda x: nltk.word_tokenize(x)).apply(len)\n",
    "df['answer_len_sentences'] = df['answer'].apply(lambda x: nltk.sent_tokenize(x)).apply(len)"
   ]
  },
  {
   "cell_type": "code",
   "execution_count": 6,
   "id": "4b216f14",
   "metadata": {},
   "outputs": [
    {
     "data": {
      "text/html": [
       "<div>\n",
       "<style scoped>\n",
       "    .dataframe tbody tr th:only-of-type {\n",
       "        vertical-align: middle;\n",
       "    }\n",
       "\n",
       "    .dataframe tbody tr th {\n",
       "        vertical-align: top;\n",
       "    }\n",
       "\n",
       "    .dataframe thead th {\n",
       "        text-align: right;\n",
       "    }\n",
       "</style>\n",
       "<table border=\"1\" class=\"dataframe\">\n",
       "  <thead>\n",
       "    <tr style=\"text-align: right;\">\n",
       "      <th></th>\n",
       "      <th>count</th>\n",
       "      <th>mean</th>\n",
       "      <th>std</th>\n",
       "      <th>min</th>\n",
       "      <th>25%</th>\n",
       "      <th>50%</th>\n",
       "      <th>75%</th>\n",
       "      <th>max</th>\n",
       "    </tr>\n",
       "  </thead>\n",
       "  <tbody>\n",
       "    <tr>\n",
       "      <th>answer_len</th>\n",
       "      <td>100.0</td>\n",
       "      <td>234.45</td>\n",
       "      <td>333.462441</td>\n",
       "      <td>7.0</td>\n",
       "      <td>47.00</td>\n",
       "      <td>110.0</td>\n",
       "      <td>270.75</td>\n",
       "      <td>2223.0</td>\n",
       "    </tr>\n",
       "    <tr>\n",
       "      <th>answer_len_words</th>\n",
       "      <td>100.0</td>\n",
       "      <td>45.33</td>\n",
       "      <td>64.458750</td>\n",
       "      <td>2.0</td>\n",
       "      <td>9.75</td>\n",
       "      <td>21.0</td>\n",
       "      <td>52.00</td>\n",
       "      <td>432.0</td>\n",
       "    </tr>\n",
       "    <tr>\n",
       "      <th>answer_len_sentences</th>\n",
       "      <td>100.0</td>\n",
       "      <td>2.77</td>\n",
       "      <td>3.215666</td>\n",
       "      <td>1.0</td>\n",
       "      <td>1.00</td>\n",
       "      <td>1.0</td>\n",
       "      <td>3.00</td>\n",
       "      <td>20.0</td>\n",
       "    </tr>\n",
       "  </tbody>\n",
       "</table>\n",
       "</div>"
      ],
      "text/plain": [
       "                      count    mean         std  min    25%    50%     75%  \\\n",
       "answer_len            100.0  234.45  333.462441  7.0  47.00  110.0  270.75   \n",
       "answer_len_words      100.0   45.33   64.458750  2.0   9.75   21.0   52.00   \n",
       "answer_len_sentences  100.0    2.77    3.215666  1.0   1.00    1.0    3.00   \n",
       "\n",
       "                         max  \n",
       "answer_len            2223.0  \n",
       "answer_len_words       432.0  \n",
       "answer_len_sentences    20.0  "
      ]
     },
     "execution_count": 6,
     "metadata": {},
     "output_type": "execute_result"
    }
   ],
   "source": [
    "df.describe().T"
   ]
  },
  {
   "cell_type": "markdown",
   "id": "b1a7c261",
   "metadata": {},
   "source": [
    "<a id = 'eda_target'></a>\n",
    "<left>\n",
    "<div style=\"color:white;\n",
    "           display:fill;\n",
    "           border: 0px;\n",
    "           border-bottom: 2px solid #AAA;\n",
    "           font-size:80%;\n",
    "           letter-spacing:0.5px\">\n",
    "<h2 style=\"padding: 10px;\n",
    "           color:#212121;\">Distribution\n",
    "</h2>\n",
    "</div>    \n",
    "</left>"
   ]
  },
  {
   "cell_type": "code",
   "execution_count": 7,
   "id": "ff768e80",
   "metadata": {},
   "outputs": [
    {
     "data": {
      "image/png": "[encoded data removed]",
      "text/plain": [
       "<Figure size 750x750 with 12 Axes>"
      ]
     },
     "metadata": {},
     "output_type": "display_data"
    }
   ],
   "source": [
    "sns.pairplot(data = df, palette = 'Paired')\n",
    "plt.show()"
   ]
  },
  {
   "cell_type": "code",
   "execution_count": 8,
   "id": "18e1948a",
   "metadata": {},
   "outputs": [
    {
     "data": {
      "image/png": "[encoded data removed]",
      "text/plain": [
       "<Figure size 1500x600 with 3 Axes>"
      ]
     },
     "metadata": {},
     "output_type": "display_data"
    }
   ],
   "source": [
    "plt.figure(1, figsize = (15, 6))\n",
    "n = 0\n",
    "for x in ['answer_len', 'answer_len_words', 'answer_len_sentences']:\n",
    "    n += 1\n",
    "    plt.subplot(1, 3, n)\n",
    "    plt.subplots_adjust(hspace = .5, wspace = .5)\n",
    "    sns.distplot(df[x], bins = 20)\n",
    "    plt.title(f'Displot of {x}')\n",
    "plt.show()"
   ]
  },
  {
   "cell_type": "markdown",
   "id": "88b3197b",
   "metadata": {},
   "source": [
    "[UP](#toc)"
   ]
  },
  {
   "cell_type": "markdown",
   "id": "e9bddc7f",
   "metadata": {},
   "source": [
    "<a id = 'annoy'></a>\n",
    "<center>\n",
    "<div style=\"color:white;\n",
    "           display:fill;\n",
    "           border-radius:5px;\n",
    "           background-color:#212121;\n",
    "           font-size:110%;\n",
    "           letter-spacing:0.5px\">\n",
    "<h2 style=\"padding: 10px;\n",
    "           color:#FFFFFF;\">Annoy\n",
    "</h2>\n",
    "</div>    \n",
    "</center>"
   ]
  },
  {
   "cell_type": "markdown",
   "id": "82cc279e",
   "metadata": {},
   "source": [
    "- [Preprocess](#annoy_preprocess)\n",
    "- [Word2Vec](#annoy_word2vec)\n",
    "- [Result](#annoy_result)\n",
    "- [Annoy](#annoy_annoy)"
   ]
  },
  {
   "cell_type": "markdown",
   "id": "2a9bb16f",
   "metadata": {},
   "source": [
    "<a id = 'annoy_preprocess'></a>\n",
    "<left>\n",
    "<div style=\"color:white;\n",
    "           display:fill;\n",
    "           border: 0px;\n",
    "           border-bottom: 2px solid #AAA;\n",
    "           font-size:80%;\n",
    "           letter-spacing:0.5px\">\n",
    "<h2 style=\"padding: 10px;\n",
    "           color:#212121;\">Preprocess\n",
    "</h2>\n",
    "</div>    \n",
    "</left>"
   ]
  },
  {
   "cell_type": "code",
   "execution_count": 9,
   "id": "0d1ad64c",
   "metadata": {},
   "outputs": [],
   "source": [
    "exclude = set(punctuation)\n",
    "sw = set(get_stop_words('de'))\n",
    "morpher = MorphAnalyzer()\n",
    "\n",
    "def preprocess_text(line):\n",
    "    spls = ''.join(i for i in line.strip() if i not in exclude).split()\n",
    "    spls = [morpher.parse(i.lower())[0].normal_form for i in spls]\n",
    "    spls = [i for i in spls if i not in sw and i != '']\n",
    "    return spls"
   ]
  },
  {
   "cell_type": "code",
   "execution_count": 10,
   "id": "de575419",
   "metadata": {},
   "outputs": [],
   "source": [
    "df['sentence'] = df['question'] + ' \\t ' + df['answer']\n",
    "\n",
    "sentences = []\n",
    "\n",
    "for line in df['sentence']:\n",
    "    sentences.append(preprocess_text(line))"
   ]
  },
  {
   "cell_type": "markdown",
   "id": "91dafdd1",
   "metadata": {},
   "source": [
    "<a id = 'annoy_word2vec'></a>\n",
    "<left>\n",
    "<div style=\"color:white;\n",
    "           display:fill;\n",
    "           border: 0px;\n",
    "           border-bottom: 2px solid #AAA;\n",
    "           font-size:80%;\n",
    "           letter-spacing:0.5px\">\n",
    "<h2 style=\"padding: 10px;\n",
    "           color:#212121;\">Word2Vec\n",
    "</h2>\n",
    "</div>    \n",
    "</left>"
   ]
  },
  {
   "cell_type": "code",
   "execution_count": 11,
   "id": "4a175448",
   "metadata": {},
   "outputs": [],
   "source": [
    "sentences = [i for i in sentences if len(i) > 2]\n",
    "model = Word2Vec(sentences = sentences, vector_size = 100, min_count = 1, window = 5)\n",
    "model.save('Assets/word2vec_model')"
   ]
  },
  {
   "cell_type": "markdown",
   "id": "07845380",
   "metadata": {},
   "source": [
    "<a id = 'annoy_annoy'></a>\n",
    "<left>\n",
    "<div style=\"color:white;\n",
    "           display:fill;\n",
    "           border: 0px;\n",
    "           border-bottom: 2px solid #AAA;\n",
    "           font-size:80%;\n",
    "           letter-spacing:0.5px\">\n",
    "<h2 style=\"padding: 10px;\n",
    "           color:#212121;\">Annoy\n",
    "</h2>\n",
    "</div>    \n",
    "</left>"
   ]
  },
  {
   "cell_type": "code",
   "execution_count": 12,
   "id": "d7f2ceae",
   "metadata": {},
   "outputs": [
    {
     "data": {
      "text/plain": [
       "True"
      ]
     },
     "execution_count": 12,
     "metadata": {},
     "output_type": "execute_result"
    }
   ],
   "source": [
    "index = annoy.AnnoyIndex(100 ,'angular')\n",
    "\n",
    "index_map = {}\n",
    "counter = 0\n",
    "\n",
    "for line in df['sentence']:\n",
    "    n_w2v = 0\n",
    "    spls = line.split('\\t')\n",
    "    index_map[counter] = spls[1]\n",
    "    question = preprocess_text(spls[0])\n",
    "    vector = np.zeros(100)\n",
    "    for word in question:\n",
    "        if word in model.wv:\n",
    "            vector += model.wv[word]\n",
    "            n_w2v += 1\n",
    "    if n_w2v > 0:\n",
    "        vector = vector / n_w2v\n",
    "    index.add_item(counter, vector)\n",
    "\n",
    "    counter += 1\n",
    "    if counter > 100:\n",
    "        break\n",
    "        \n",
    "index.build(10)\n",
    "index.save('speaker.ann')"
   ]
  },
  {
   "cell_type": "markdown",
   "id": "505d021c",
   "metadata": {},
   "source": [
    "<a id = 'annoy_result'></a>\n",
    "<left>\n",
    "<div style=\"color:white;\n",
    "           display:fill;\n",
    "           border: 0px;\n",
    "           border-bottom: 2px solid #AAA;\n",
    "           font-size:80%;\n",
    "           letter-spacing:0.5px\">\n",
    "<h2 style=\"padding: 10px;\n",
    "           color:#212121;\">Result\n",
    "</h2>\n",
    "</div>    \n",
    "</left>"
   ]
  },
  {
   "cell_type": "code",
   "execution_count": 13,
   "id": "bbfb2d4c",
   "metadata": {},
   "outputs": [],
   "source": [
    "def answer_annoy(line):\n",
    "    splt = preprocess_text(line)\n",
    "    n_w2v = 0\n",
    "    vector = np.zeros(100)\n",
    "    for word in splt:\n",
    "        if word in model.wv:\n",
    "            vector += model.wv[word]\n",
    "            n_w2v += 1\n",
    "    if n_w2v > 0:\n",
    "        vector = vector / n_w2v\n",
    "    answer_index = index.get_nns_by_vector(vector, 1)\n",
    "    return index_map[answer_index[0]]"
   ]
  },
  {
   "cell_type": "code",
   "execution_count": 14,
   "id": "04d707f6",
   "metadata": {},
   "outputs": [
    {
     "data": {
      "text/plain": [
       "' 4. Jäger und Gejagte, Eisbiss, Kuss der Dunkelheit, Blutschwur.'"
      ]
     },
     "execution_count": 14,
     "metadata": {},
     "output_type": "execute_result"
    }
   ],
   "source": [
    "answer_annoy('Wie viele Bucher gibt es Vampire Acadamy gibt es?')"
   ]
  },
  {
   "cell_type": "code",
   "execution_count": 15,
   "id": "3f66bb29",
   "metadata": {},
   "outputs": [
    {
     "data": {
      "text/plain": [
       "' Sie brauchen keine Karte, dort ist alles klar und verständlich. Wenn Sie ein Transitpassagier sind, sollten Sie direkt zum Check-in-Schalter für Transitpassagiere gehen, Sie werden sich nicht verlaufen, dort sind viele Schilder angebracht!!!'"
      ]
     },
     "execution_count": 15,
     "metadata": {},
     "output_type": "execute_result"
    }
   ],
   "source": [
    "answer_annoy('Flughafen Zürich benötige einen Lageplan des Flughafens Zürich')"
   ]
  },
  {
   "cell_type": "markdown",
   "id": "cb311985",
   "metadata": {},
   "source": [
    "[UP](#toc)"
   ]
  }
 ],
 "metadata": {
  "kernelspec": {
   "display_name": "Python 3 (ipykernel)",
   "language": "python",
   "name": "python3"
  },
  "language_info": {
   "codemirror_mode": {
    "name": "ipython",
    "version": 3
   },
   "file_extension": ".py",
   "mimetype": "text/x-python",
   "name": "python",
   "nbconvert_exporter": "python",
   "pygments_lexer": "ipython3",
   "version": "3.10.9"
  }
 },
 "nbformat": 4,
 "nbformat_minor": 5
}
