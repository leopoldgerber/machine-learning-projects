{
 "cells": [
  {
   "cell_type": "markdown",
   "metadata": {},
   "source": [
    "<center>\n",
    "<div style=\"color:white;\n",
    "           display:fill;\n",
    "           border-radius:5px;\n",
    "           background-color:#212121;\n",
    "           font-size:110%;\n",
    "           letter-spacing:0.5px\">\n",
    "<h2 style=\"padding: 10px;\n",
    "           color:#FFFFFF;\">Time Series\n",
    "</h2>\n",
    "</div>    \n",
    "</center>"
   ]
  },
  {
   "cell_type": "markdown",
   "metadata": {},
   "source": [
    "<a id = 'toc'></a>\n",
    "# Table of Contents\n",
    "\n",
    "- ### [Calculus](#calculus)\n",
    "- ### [Exploratory Data Analysis](#eda)\n",
    "- ### [Model](#model)"
   ]
  },
  {
   "cell_type": "markdown",
   "metadata": {},
   "source": [
    "<a id = 'calculus'></a>\n",
    "<center>\n",
    "<div style=\"color:white;\n",
    "           display:fill;\n",
    "           border-radius:5px;\n",
    "           background-color:#212121;\n",
    "           font-size:110%;\n",
    "           letter-spacing:0.5px\">\n",
    "<h2 style=\"padding: 10px;\n",
    "           color:#FFFFFF;\">Calculus\n",
    "</h2>\n",
    "</div>    \n",
    "</center>"
   ]
  },
  {
   "cell_type": "markdown",
   "metadata": {},
   "source": [
    "<div style=\"display:fill;\n",
    "           border: 0px;\n",
    "           border-bottom: 2px solid #AAA;\n",
    "           font-size:80%;\n",
    "           letter-spacing:0.5px\">\n",
    "<h2 style=\"padding: 10px;\">AR (AutoRegressive)\n",
    "</h2>\n",
    "</div>"
   ]
  },
  {
   "cell_type": "markdown",
   "metadata": {},
   "source": [
    "To make a forecast based on our time series we will use the AutoRegressive model. Based on the past values in the series - called lags, AR relies on the time series to being stationary. \\\n",
    "An AR model, that depends on a lag in the past - called an **AR model of order one** or AR(1).\n",
    "\n",
    "$$Y_{t} = \\omega + \\phi_{1}Y_{t-1} + \\varepsilon_{t}$$\n",
    "\n",
    "- $Y_{t}$ - Target, $Y_{t-1}$ - Lagged Target, $\\varepsilon_{t}$ - Error\n",
    "- $\\omega$ - intercept, $\\phi$ - constant(coefficient)\n",
    "\n",
    "This recursion (lagged target going back to the previous data point) in time goes back until the beginning of the series, so these are called **Long Memory Models**.\n",
    "\n",
    "$$\\begin{aligned}\n",
    "Y_{t} &= \\omega + \\phi Y_{t-1} + \\varepsilon_{t} \\\\\n",
    "Y_{t-1} &= \\omega + \\phi Y_{t-2} + \\varepsilon_{t-1} \\\\\n",
    "\\downarrow \\\\\n",
    "Y_{t} &= \\omega^{*} + \\phi^{2} Y_{t-2} + \\phi \\varepsilon_{t-1} + \\varepsilon_{t}  \\\\\n",
    "\\\\\n",
    "Y_{t-2} &= \\omega + \\phi Y_{t-3} + \\varepsilon_{t-2} \\\\\n",
    "\\downarrow \\\\\n",
    "Y_{t} &= \\omega^{*} + \\phi^{3} Y_{t-3} + \\phi^{2} \\varepsilon_{t-2} + \\phi \\varepsilon_{t-1} + \\varepsilon_{t} \\\\\n",
    "\\end{aligned}\n",
    "$$\n",
    "\n",
    "If we continued to insert the previous observations, we would arrive at the first observation, and with each step the effect of the previous values would decrease IF $|\\phi| < 1$. \\\n",
    "This goes back to the idea of stationary - the dependence of previous observations declines over time."
   ]
  },
  {
   "cell_type": "markdown",
   "metadata": {},
   "source": [
    "<div style=\"display:fill;\n",
    "           border: 0px;\n",
    "           border-bottom: 2px solid #AAA;\n",
    "           font-size:80%;\n",
    "           letter-spacing:0.5px\">\n",
    "<h2 style=\"padding: 10px;\">MA (Moving Average)\n",
    "</h2>\n",
    "</div>"
   ]
  },
  {
   "cell_type": "markdown",
   "metadata": {},
   "source": [
    "Instead of looking at the previous lagged target value, we'll make use of the lagged error.\\\n",
    "An MA model, that depends on a lag error in the past - called an **MA model of order one** or MA(1).\n",
    "\n",
    "$$Y_{t} = \\omega + \\theta_{1}\\varepsilon_{t - 1} + \\varepsilon_{t}$$\n",
    "\n",
    "To avoid the first prediction leak (we don't have a prediction for the first observation), we use the average of the time series.\\\n",
    "MA models are **Short Memory Models** - these errors don't last long into the future.\n",
    "\n",
    "$$\\begin{aligned}\n",
    "Y_{t - 1} &= \\omega + \\theta \\varepsilon_{t-2} + \\varepsilon_{t-1}\\\\\n",
    "Y_{t} &= \\omega + \\theta \\varepsilon_{t - 1} + \\varepsilon_{t}\\\\\n",
    "Y_{t + 1} &= \\omega + \\theta \\varepsilon_{t} + \\varepsilon_{t+1}\\\\\n",
    "\\end{aligned}\n",
    "$$\n",
    "\n",
    "This goes back to the idea of stationarity - the dependence of previous observations decline over time.\n",
    "In **MA(1)** models, the effect of shocks has NO effect on the present if they happened long enough ago."
   ]
  },
  {
   "cell_type": "markdown",
   "metadata": {},
   "source": [
    "<div style=\"display:fill;\n",
    "           border: 0px;\n",
    "           border-bottom: 2px solid #AAA;\n",
    "           font-size:80%;\n",
    "           letter-spacing:0.5px\">\n",
    "<h2 style=\"padding: 10px;\">ARIMA\n",
    "</h2>\n",
    "</div>"
   ]
  },
  {
   "cell_type": "markdown",
   "metadata": {},
   "source": [
    "**ARIMA** - AR + I + MA\n",
    "\n",
    "$$Y_{t} = \\omega + \\phi_{1}Y_{t - 1} + ... + \\phi_{p}Y_{t - p} + \\theta_{t}\\varepsilon_{t-1} + ... + \\theta_{q}\\varepsilon_{t-q} + \\varepsilon_{t}$$\n",
    "\n",
    "- **I** - integrated. Essentially, you need to make your data stationary (by differencing the time series). Distribution depends only on difference in time, not location in time.\n",
    "\n",
    "**Example with selected orders:**\n",
    "ARIMA (1, 1, 1) (p, d, q)\n",
    "- *d* → $Y_{t} - Y_{t - 1} = W_{t}$\n",
    "- *p, q* → $W_{t} = \\omega + \\phi_{1}W_{t-1} + \\theta_{1}\\varepsilon_{t - 1} + \\varepsilon_{t}$\n",
    "\n",
    "**Deciding how many orders (p, q)**\\\n",
    "Couple of different **techniques to selecting models**:\n",
    "1. Plotting patterns in correlation\n",
    "2. Automatic selection techniques"
   ]
  },
  {
   "cell_type": "markdown",
   "metadata": {},
   "source": [
    "[UP](#toc)"
   ]
  },
  {
   "cell_type": "markdown",
   "metadata": {},
   "source": [
    "<a id = 'eda'></a>\n",
    "<center>\n",
    "<div style=\"color:white;\n",
    "           display:fill;\n",
    "           border-radius:5px;\n",
    "           background-color:#212121;\n",
    "           font-size:110%;\n",
    "           letter-spacing:0.5px\">\n",
    "<h2 style=\"padding: 10px;\n",
    "           color:#FFFFFF;\">Exploratory Data Analysis\n",
    "</h2>\n",
    "</div>    \n",
    "</center>"
   ]
  },
  {
   "cell_type": "code",
   "execution_count": null,
   "metadata": {},
   "outputs": [],
   "source": []
  },
  {
   "cell_type": "markdown",
   "metadata": {},
   "source": [
    "[UP](#toc)"
   ]
  },
  {
   "cell_type": "markdown",
   "metadata": {},
   "source": [
    "<a id = 'model'></a>\n",
    "<center>\n",
    "<div style=\"color:white;\n",
    "           display:fill;\n",
    "           border-radius:5px;\n",
    "           background-color:#212121;\n",
    "           font-size:110%;\n",
    "           letter-spacing:0.5px\">\n",
    "<h2 style=\"padding: 10px;\n",
    "           color:#FFFFFF;\">Model\n",
    "</h2>\n",
    "</div>    \n",
    "</center>"
   ]
  },
  {
   "cell_type": "code",
   "execution_count": null,
   "metadata": {},
   "outputs": [],
   "source": []
  },
  {
   "cell_type": "markdown",
   "metadata": {},
   "source": [
    "[UP](#toc)"
   ]
  },
  {
   "cell_type": "code",
   "execution_count": null,
   "metadata": {},
   "outputs": [],
   "source": []
  },
  {
   "cell_type": "code",
   "execution_count": null,
   "metadata": {},
   "outputs": [],
   "source": []
  },
  {
   "cell_type": "code",
   "execution_count": null,
   "metadata": {},
   "outputs": [],
   "source": []
  },
  {
   "cell_type": "code",
   "execution_count": null,
   "metadata": {},
   "outputs": [],
   "source": []
  },
  {
   "cell_type": "code",
   "execution_count": null,
   "metadata": {},
   "outputs": [],
   "source": []
  },
  {
   "cell_type": "code",
   "execution_count": null,
   "metadata": {},
   "outputs": [],
   "source": []
  }
 ],
 "metadata": {
  "kernelspec": {
   "display_name": "base",
   "language": "python",
   "name": "python3"
  },
  "language_info": {
   "codemirror_mode": {
    "name": "ipython",
    "version": 3
   },
   "file_extension": ".py",
   "mimetype": "text/x-python",
   "name": "python",
   "nbconvert_exporter": "python",
   "pygments_lexer": "ipython3",
   "version": "3.10.9"
  }
 },
 "nbformat": 4,
 "nbformat_minor": 2
}
